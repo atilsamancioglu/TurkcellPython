{
 "cells": [
  {
   "cell_type": "code",
   "execution_count": 1,
   "metadata": {},
   "outputs": [],
   "source": [
    "def toplama(num1, num2):\n",
    "    return num1 + num2"
   ]
  },
  {
   "cell_type": "code",
   "execution_count": 2,
   "metadata": {},
   "outputs": [
    {
     "name": "stdout",
     "output_type": "stream",
     "text": [
      "ilk numarayı giriniz: 10\n",
      "ikinci numarayı giriniz: 10\n"
     ]
    },
    {
     "data": {
      "text/plain": [
       "20"
      ]
     },
     "execution_count": 2,
     "metadata": {},
     "output_type": "execute_result"
    }
   ],
   "source": [
    "a = int(input(\"ilk numarayı giriniz: \"))\n",
    "b = int(input(\"ikinci numarayı giriniz: \"))\n",
    "toplama(a,b)"
   ]
  },
  {
   "cell_type": "code",
   "execution_count": 3,
   "metadata": {},
   "outputs": [],
   "source": [
    "# hataları ele almak - error handling"
   ]
  },
  {
   "cell_type": "code",
   "execution_count": 4,
   "metadata": {},
   "outputs": [],
   "source": [
    "# try & except & else & finally"
   ]
  },
  {
   "cell_type": "code",
   "execution_count": 5,
   "metadata": {
    "scrolled": true
   },
   "outputs": [
    {
     "name": "stdout",
     "output_type": "stream",
     "text": [
      "ilk numarayı giriniz: 20\n",
      "ikinci numarayı giriniz: 20\n",
      "40\n"
     ]
    }
   ],
   "source": [
    "try:\n",
    "    a = int(input(\"ilk numarayı giriniz: \"))\n",
    "    b = int(input(\"ikinci numarayı giriniz: \"))\n",
    "    print(toplama(a,b))\n",
    "except:\n",
    "    print(\"lütfen doğru bir numara giriniz\")"
   ]
  },
  {
   "cell_type": "code",
   "execution_count": 6,
   "metadata": {},
   "outputs": [
    {
     "name": "stdout",
     "output_type": "stream",
     "text": [
      "numaranızı giriniz: 10\n",
      "teşekkürler\n",
      "finally çağırıldı\n"
     ]
    }
   ],
   "source": [
    "try:\n",
    "    yeni_int = int(input(\"numaranızı giriniz: \"))\n",
    "except:\n",
    "    print(\"sanırsam yanlış numara girdiniz\")\n",
    "else:\n",
    "    print(\"teşekkürler\")\n",
    "finally:\n",
    "    print(\"finally çağırıldı\")"
   ]
  },
  {
   "cell_type": "code",
   "execution_count": 7,
   "metadata": {},
   "outputs": [
    {
     "name": "stdout",
     "output_type": "stream",
     "text": [
      "numaranızı giriniz: 10\n",
      "teşekkürler\n",
      "finally çağırıldı\n"
     ]
    }
   ],
   "source": [
    "while True:\n",
    "    try:\n",
    "        yeni_int = int(input(\"numaranızı giriniz: \"))\n",
    "    except:\n",
    "        print(\"sanırsam yanlış numara girdiniz\")\n",
    "        continue\n",
    "    else:\n",
    "        print(\"teşekkürler\")\n",
    "        break\n",
    "    finally:\n",
    "        print(\"finally çağırıldı\")"
   ]
  },
  {
   "cell_type": "code",
   "execution_count": 8,
   "metadata": {},
   "outputs": [
    {
     "name": "stdout",
     "output_type": "stream",
     "text": [
      "ilk numarayı giriniz: 10\n",
      "ikinci numarayı giriniz: 20\n",
      "İşleminizi seçiniz: + - * /+\n",
      "30\n",
      "Sonra görüşmek üzere\n"
     ]
    }
   ],
   "source": [
    "def hesapla(x,y,islem):\n",
    "    if islem not in \"+-*/\":\n",
    "        return \"Lütfen işlemleri düzgün seçiniz: + - * /\"\n",
    "    \n",
    "    if islem == \"+\":\n",
    "        return x+y\n",
    "    elif islem == \"-\":\n",
    "        return x-y\n",
    "    elif islem == \"*\":\n",
    "        return x*y\n",
    "    elif islem == \"/\":\n",
    "        return x/y\n",
    "\n",
    "while True:\n",
    "    try:\n",
    "        ilk_numara = int(input(\"ilk numarayı giriniz: \"))\n",
    "        ikinci_numara = int(input(\"ikinci numarayı giriniz: \"))\n",
    "        islem = input(\"İşleminizi seçiniz: + - * /\")\n",
    "        print(hesapla(ilk_numara,ikinci_numara,islem))\n",
    "    except:\n",
    "        print(\"Lütfen sayıları düzgün giriniz\")\n",
    "    else:\n",
    "        print(\"Sonra görüşmek üzere\")\n",
    "        break"
   ]
  },
  {
   "cell_type": "code",
   "execution_count": null,
   "metadata": {},
   "outputs": [],
   "source": []
  },
  {
   "cell_type": "code",
   "execution_count": null,
   "metadata": {},
   "outputs": [],
   "source": []
  }
 ],
 "metadata": {
  "kernelspec": {
   "display_name": "Python 3",
   "language": "python",
   "name": "python3"
  },
  "language_info": {
   "codemirror_mode": {
    "name": "ipython",
    "version": 3
   },
   "file_extension": ".py",
   "mimetype": "text/x-python",
   "name": "python",
   "nbconvert_exporter": "python",
   "pygments_lexer": "ipython3",
   "version": "3.8.5"
  }
 },
 "nbformat": 4,
 "nbformat_minor": 4
}
